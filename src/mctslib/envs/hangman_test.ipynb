{
 "cells": [
  {
   "cell_type": "code",
   "execution_count": null,
   "metadata": {},
   "outputs": [],
   "source": [
    "import random"
   ]
  },
  {
   "cell_type": "markdown",
   "metadata": {},
   "source": [
    "vacant_space = \"_____\"\n",
    "word = hello\n",
    "action ids are in the form of a list of list, so [[number in alphabet of corresponding letter of word]x5]\n",
    "theres probably a better way to do this"
   ]
  },
  {
   "cell_type": "code",
   "execution_count": null,
   "metadata": {},
   "outputs": [],
   "source": [
    "class State:\n",
    "    def __init__(self, vacant_space, word, action_id = 0):\n",
    "        self.vacant_space = len(word)*\"_\"\n",
    "        self.word = word\n",
    "        self._evaluation = len(vacant_space/len(word))\n",
    "        self.action_id = action_id\n",
    "        \n",
    "    def find_children(self):\n",
    "        child_list = []\n",
    "        for i in vacant_space:\n",
    "            if i == \"_\":\n",
    "                child_list.append(list(range(27)))\n",
    "                \n",
    "    #for _ in vacant space, go into the child list, get the correpsonding alphebet letter at the list number, then insert that into vacant space\n",
    "        \n",
    "    def apply_actions(self, action_id):\n",
    "        ##return the child list as available actions to apply\n",
    "        \n",
    "        \n",
    "    def get_legal_actions(self):\n",
    "        return list(range(vacant_letters))\n",
    "        \n",
    "    def default_policy(self):\n",
    "        return random.choice(self.find_children())\n",
    "\n",
    "    def evaluation(self):\n",
    "        return self._evaluation\n",
    "\n",
    "    def is_terminal(self):\n",
    "        return False\n",
    "        "
   ]
  }
 ],
 "metadata": {
  "kernelspec": {
   "display_name": "Python 3",
   "language": "python",
   "name": "python3"
  },
  "language_info": {
   "codemirror_mode": {
    "name": "ipython",
    "version": 3
   },
   "file_extension": ".py",
   "mimetype": "text/x-python",
   "name": "python",
   "nbconvert_exporter": "python",
   "pygments_lexer": "ipython3",
   "version": "3.11.8"
  }
 },
 "nbformat": 4,
 "nbformat_minor": 2
}
